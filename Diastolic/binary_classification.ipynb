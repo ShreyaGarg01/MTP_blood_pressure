{
 "cells": [
  {
   "cell_type": "code",
   "execution_count": 1,
   "metadata": {
    "id": "236G9s8kP-Po"
   },
   "outputs": [],
   "source": [
    "import numpy as np\n",
    "import pandas as pd\n",
    "from sklearn.model_selection import (\n",
    "    train_test_split,\n",
    ")\n",
    "from sklearn.preprocessing import MinMaxScaler\n",
    "from sklearn.ensemble import (\n",
    "    GradientBoostingClassifier,\n",
    "    AdaBoostClassifier,\n",
    "    RandomForestClassifier,\n",
    ")\n",
    "from sklearn.linear_model import RidgeClassifier, LogisticRegression\n",
    "from sklearn.neighbors import KNeighborsClassifier\n",
    "from sklearn.metrics import (\n",
    "    accuracy_score,\n",
    "    f1_score,\n",
    "    roc_auc_score,\n",
    ")\n",
    "import matplotlib.pyplot as plt\n",
    "from sklearn.metrics import confusion_matrix, ConfusionMatrixDisplay\n",
    "from xgboost import XGBClassifier\n",
    "from sklearn.svm import SVC\n",
    "from sklearn.tree import DecisionTreeClassifier\n",
    "from sklearn.naive_bayes import GaussianNB, BernoulliNB\n",
    "from skopt import BayesSearchCV\n",
    "from skopt.space import Real, Integer, Categorical\n",
    "from lightgbm import LGBMClassifier\n",
    "from sklearn.ensemble import StackingClassifier"
   ]
  },
  {
   "cell_type": "markdown",
   "metadata": {
    "id": "6g-E1QOyP-Pp"
   },
   "source": [
    "### Load the data"
   ]
  },
  {
   "cell_type": "code",
   "execution_count": 2,
   "metadata": {
    "id": "-Yk4ppkOP-Pq"
   },
   "outputs": [],
   "source": [
    "data = pd.read_csv(\"..\\\\Data\\\\BP_features.csv\")\n",
    "labels = pd.read_csv(\"..\\\\Data\\\\BP_labels_diastolic.csv\")"
   ]
  },
  {
   "cell_type": "code",
   "execution_count": 3,
   "metadata": {
    "colab": {
     "base_uri": "https://localhost:8080/",
     "height": 458
    },
    "id": "faksxCkJj4cB",
    "outputId": "5a52fd4d-b329-40b5-a1c4-a3e86f62c5a2"
   },
   "outputs": [
    {
     "data": {
      "text/plain": [
       "0      80\n",
       "1      80\n",
       "2      70\n",
       "3      80\n",
       "4      70\n",
       "       ..\n",
       "547    77\n",
       "548    74\n",
       "549    82\n",
       "550    70\n",
       "551    81\n",
       "Name: min_BP, Length: 552, dtype: int64"
      ]
     },
     "execution_count": 3,
     "metadata": {},
     "output_type": "execute_result"
    }
   ],
   "source": [
    "labels[\"min_BP\"]"
   ]
  },
  {
   "cell_type": "code",
   "execution_count": 4,
   "metadata": {},
   "outputs": [],
   "source": [
    "def get_binary_class(value):\n",
    "    # Normal Class for Max_BP (90-140)\n",
    "    if value < 60:\n",
    "        return -1\n",
    "    elif value >= 60 and value <= 90:\n",
    "        return 0\n",
    "    # Abnormal Class for Max_BP (<90) or (>140)\n",
    "    return 1\n",
    "\n",
    "labels = labels[\"min_BP\"].apply(lambda x: get_binary_class(x))"
   ]
  },
  {
   "cell_type": "code",
   "execution_count": 5,
   "metadata": {},
   "outputs": [
    {
     "data": {
      "text/plain": [
       "min_BP\n",
       " 0    464\n",
       " 1     70\n",
       "-1     18\n",
       "Name: count, dtype: int64"
      ]
     },
     "execution_count": 5,
     "metadata": {},
     "output_type": "execute_result"
    }
   ],
   "source": [
    "labels.value_counts()"
   ]
  },
  {
   "cell_type": "code",
   "execution_count": 6,
   "metadata": {},
   "outputs": [
    {
     "name": "stdout",
     "output_type": "stream",
     "text": [
      "Shape of data: (534, 124)\n",
      "Shape of labels: (534,)\n"
     ]
    }
   ],
   "source": [
    "# Create a boolean mask to filter out rows where labels are -1\n",
    "mask = labels != -1\n",
    "mask\n",
    "\n",
    "\n",
    "labels = pd.Series(labels)\n",
    "# Apply the mask to both data and labels to drop rows with labels = -1\n",
    "data = data[mask]\n",
    "labels = labels[mask]\n",
    "\n",
    "# Reset index to keep them aligned if necessary\n",
    "data.reset_index(drop=True, inplace=True)\n",
    "labels.reset_index(drop=True, inplace=True)\n",
    "\n",
    "# Check the resulting shapes to confirm\n",
    "print(f\"Shape of data: {data.shape}\")\n",
    "print(f\"Shape of labels: {labels.shape}\")"
   ]
  },
  {
   "cell_type": "code",
   "execution_count": 7,
   "metadata": {},
   "outputs": [],
   "source": [
    "labels = np.ravel(labels)"
   ]
  },
  {
   "cell_type": "markdown",
   "metadata": {
    "id": "EjsecDl4P-Pr"
   },
   "source": [
    "### Splitting the Dataset"
   ]
  },
  {
   "cell_type": "code",
   "execution_count": 8,
   "metadata": {
    "id": "mu049gpRP-Pr"
   },
   "outputs": [],
   "source": [
    "X_train, X_test, y_train, y_test = train_test_split(\n",
    "    data, labels, test_size=0.2, random_state=42, shuffle=True\n",
    ")"
   ]
  },
  {
   "cell_type": "code",
   "execution_count": 9,
   "metadata": {
    "colab": {
     "base_uri": "https://localhost:8080/"
    },
    "id": "D_p0BwM4_20H",
    "outputId": "96fe9833-b461-43fc-a476-8b3e29be80d6"
   },
   "outputs": [
    {
     "data": {
      "text/plain": [
       "(427,)"
      ]
     },
     "execution_count": 9,
     "metadata": {},
     "output_type": "execute_result"
    }
   ],
   "source": [
    "y_train.shape"
   ]
  },
  {
   "cell_type": "markdown",
   "metadata": {
    "id": "L7cGfO0KP-Pr"
   },
   "source": [
    "### Normalization"
   ]
  },
  {
   "cell_type": "code",
   "execution_count": 10,
   "metadata": {
    "id": "zjxa4HWzP-Pr"
   },
   "outputs": [],
   "source": [
    "scaler = MinMaxScaler()\n",
    "X_train = scaler.fit_transform(X_train)\n",
    "X_test = scaler.transform(X_test)"
   ]
  },
  {
   "cell_type": "code",
   "execution_count": 11,
   "metadata": {},
   "outputs": [
    {
     "data": {
      "text/plain": [
       "array([4.32835821e-01, 1.00000000e+00, 4.93333333e-01, 1.00000000e+00,\n",
       "       9.09090909e-02, 6.00000000e-01, 2.85714286e-01, 0.00000000e+00,\n",
       "       0.00000000e+00, 0.00000000e+00, 0.00000000e+00, 0.00000000e+00,\n",
       "       0.00000000e+00, 0.00000000e+00, 0.00000000e+00, 0.00000000e+00,\n",
       "       0.00000000e+00, 0.00000000e+00, 0.00000000e+00, 3.09829681e-15,\n",
       "       7.54901961e-01, 3.81642512e-01, 1.16070340e-15, 1.34723239e-30,\n",
       "       3.11418685e-02, 4.73684211e-01, 1.15755627e-01, 4.66833408e-16,\n",
       "       2.17933431e-31, 3.39890809e-01, 1.19399449e-01, 0.00000000e+00,\n",
       "       1.19140655e-01, 1.19512055e-01, 2.69144976e-15, 1.00000000e+00,\n",
       "       9.15254237e-01, 2.34320138e-15, 5.49059269e-30, 4.34782609e-02,\n",
       "       1.00000000e+00, 1.34453782e-01, 1.33433746e-15, 1.78045645e-30,\n",
       "       6.24661247e-01, 3.89794477e-01, 0.00000000e+00, 3.91272490e-01,\n",
       "       3.91272490e-01, 2.08166817e-15, 9.42693410e-01, 3.73801917e-01,\n",
       "       8.04922302e-16, 6.47899913e-31, 3.61445783e-02, 3.10344828e-01,\n",
       "       8.35266821e-02, 6.29296838e-16, 3.96014511e-31, 2.38285145e-01,\n",
       "       6.76808198e-02, 0.00000000e+00, 6.78793305e-02, 8.68360869e-02,\n",
       "       3.35161668e-15, 9.53488372e-01, 1.89024390e-01, 1.71058358e-15,\n",
       "       2.92609620e-30, 3.11418685e-02, 4.73684211e-01, 6.30472855e-02,\n",
       "       9.49755972e-16, 9.02036406e-31, 7.40628046e-01, 5.51098434e-01,\n",
       "       0.00000000e+00, 5.51147143e-01, 5.51256501e-01, 2.85714286e-02,\n",
       "       1.00000000e+00, 4.44444444e-01, 0.00000000e+00, 0.00000000e+00,\n",
       "       4.52261307e-02, 3.10344828e-01, 1.08761329e-01, 0.00000000e+00,\n",
       "       0.00000000e+00, 2.13280150e-01, 7.34561524e-02, 0.00000000e+00,\n",
       "       7.01829497e-02, 9.02252204e-02, 2.69144976e-15, 1.00000000e+00,\n",
       "       4.79166667e-01, 0.00000000e+00, 0.00000000e+00, 4.10958904e-02,\n",
       "       4.73684211e-01, 1.20603015e-01, 0.00000000e+00, 0.00000000e+00,\n",
       "       1.31867901e-01, 5.03597402e-02, 0.00000000e+00, 5.03451861e-02,\n",
       "       5.32300436e-02, 2.70270270e-02, 1.00000000e+00, 9.19540230e-01,\n",
       "       2.76397529e-15, 7.63955942e-30, 2.85714286e-02, 5.00000000e-01,\n",
       "       9.09090909e-02, 8.45922574e-16, 7.15585001e-31, 5.06263048e-01,\n",
       "       2.56267185e-01, 0.00000000e+00, 2.56417174e-01, 2.56417174e-01])"
      ]
     },
     "execution_count": 11,
     "metadata": {},
     "output_type": "execute_result"
    }
   ],
   "source": [
    "X_train[0]"
   ]
  },
  {
   "cell_type": "markdown",
   "metadata": {
    "id": "3w7rwcrwP-Pr"
   },
   "source": [
    "### Train and evaluate model"
   ]
  },
  {
   "cell_type": "code",
   "execution_count": 12,
   "metadata": {},
   "outputs": [],
   "source": [
    "def train_evaluate_model(X_train, X_test, y_train, y_test, model, param_grid):\n",
    "\n",
    "    bayes_search = BayesSearchCV(\n",
    "        model,\n",
    "        param_grid,\n",
    "        cv=5,\n",
    "        scoring=\"f1_macro\",\n",
    "        n_jobs=-1,\n",
    "        random_state=42,\n",
    "        n_iter=20,\n",
    "    )\n",
    "    bayes_search.fit(X_train, y_train)\n",
    "\n",
    "    best_model = bayes_search.best_estimator_\n",
    "    best_params = bayes_search.best_params_\n",
    "\n",
    "    y_train_pred = best_model.predict(X_train)\n",
    "    y_test_pred = best_model.predict(X_test)\n",
    "\n",
    "    # Evaluation Metrics!\n",
    "    train_accuracy = accuracy_score(y_train, y_train_pred)\n",
    "    test_accuracy = accuracy_score(y_test, y_test_pred)\n",
    "\n",
    "    train_f1 = f1_score(y_train, y_train_pred)\n",
    "    test_f1 = f1_score(y_test, y_test_pred)\n",
    "\n",
    "    try:\n",
    "        train_roc = roc_auc_score(y_train, bayes_search.predict_proba(X_train)[:, 1])\n",
    "        test_roc = roc_auc_score(y_test, bayes_search.predict_proba(X_test)[:, 1])\n",
    "\n",
    "    except:\n",
    "        test_roc = roc_auc_score(y_test, bayes_search.decision_function(X_test))\n",
    "        train_roc = roc_auc_score(y_train, bayes_search.decision_function(X_train))\n",
    "\n",
    "    return (\n",
    "        best_model,\n",
    "        best_params,\n",
    "        train_accuracy,\n",
    "        test_accuracy,\n",
    "        train_f1,\n",
    "        test_f1,\n",
    "        train_roc,\n",
    "        test_roc,\n",
    "    )"
   ]
  },
  {
   "cell_type": "markdown",
   "metadata": {},
   "source": [
    "Parameter Grid for different models"
   ]
  },
  {
   "cell_type": "code",
   "execution_count": 13,
   "metadata": {},
   "outputs": [],
   "source": [
    "models = {\n",
    "    \"Logistic Regression\": [\n",
    "        LogisticRegression(\n",
    "            max_iter=2000, n_jobs=-1, random_state=42, class_weight=\"balanced\"\n",
    "        ),\n",
    "        {\n",
    "            \"C\": Real(0.01, 10, prior=\"log-uniform\"),\n",
    "            \"fit_intercept\": [True, False],\n",
    "            \"penalty\": [\"l2\", None],\n",
    "            \"solver\": [\"lbfgs\", \"newton-cg\", \"newton-cholesky\", \"sag\"],\n",
    "            # \"tol\": Real(1e-5, 1e-3, prior=\"log-uniform\"),\n",
    "        },\n",
    "    ],\n",
    "    \"Ridge Regression\": [\n",
    "        RidgeClassifier(random_state=42, max_iter=2000, class_weight=\"balanced\"),\n",
    "        {\n",
    "            \"alpha\": Real(0.01, 100, prior=\"log-uniform\"),\n",
    "            \"fit_intercept\": [True, False],\n",
    "        },\n",
    "    ],\n",
    "    \"SVM\": [\n",
    "        SVC(random_state=42, class_weight=\"balanced\", probability=True, kernel=\"poly\"),\n",
    "        {\n",
    "            # \"gamma\": Categorical([\"scale\", \"auto\"]),\n",
    "            'gamma': Real(1e-3, 1, prior=\"log-uniform\"),\n",
    "            \"C\": Real(1e-2, 100, prior=\"log-uniform\"),\n",
    "            'degree': Integer(2, 8),\n",
    "            'coef0': Real(1e-1, 10, prior=\"log-uniform\")\n",
    "            \n",
    "            # \"kernel\": Categorical([\"linear\", \"poly\", \"rbf\", \"sigmoid\"]),\n",
    "        },\n",
    "    ],\n",
    "    \"Decision Tree\": [\n",
    "        DecisionTreeClassifier(random_state=42, class_weight=\"balanced\"),\n",
    "        {\n",
    "            \"max_depth\": Integer(3, 8),\n",
    "            \"criterion\": Categorical([\"gini\", \"entropy\", \"log_loss\"]),\n",
    "            # \"min_samples_split\": Integer(2, 10),\n",
    "            # \"min_samples_leaf\": Integer(1, 10),\n",
    "            'max_leaf_nodes': Integer(3,10)\n",
    "        },\n",
    "    ],\n",
    "    \"KNN\": [\n",
    "        KNeighborsClassifier(),\n",
    "        {\n",
    "            \"metric\": Categorical([\"euclidean\", \"manhattan\"]),\n",
    "            \"n_neighbors\": Integer(3, 30),\n",
    "            \"weights\": Categorical([\"uniform\", \"distance\"]),\n",
    "            \"algorithm\": Categorical([\"auto\", \"ball_tree\", \"kd_tree\", \"brute\"]),\n",
    "            \"p\": Integer(1, 2),\n",
    "        },\n",
    "    ],\n",
    "    \"AdaBoost\": [\n",
    "        AdaBoostClassifier(random_state=42, algorithm=\"SAMME\"),\n",
    "        {\n",
    "            \"n_estimators\": Integer(50, 210),\n",
    "            \"learning_rate\": Real(0.001, 1, prior=\"log-uniform\"),\n",
    "        },\n",
    "    ],\n",
    "    \"Random Forest\": [\n",
    "        RandomForestClassifier(random_state=42, n_jobs=-1, class_weight=\"balanced\"),\n",
    "        {\n",
    "            \"n_estimators\": Integer(50, 500),\n",
    "            \"max_depth\": Integer(3, 20),\n",
    "            \"min_samples_split\": Integer(2, 100),\n",
    "            \"min_samples_leaf\": Integer(1, 50),\n",
    "            \"max_features\": Categorical([\"sqrt\", \"log2\", None]),\n",
    "            \"bootstrap\": Categorical([True, False]),\n",
    "            \"criterion\": Categorical([\"gini\", \"entropy\", \"log_loss\"]),\n",
    "        },\n",
    "    ],\n",
    "    \"Gradient Boosting\": [\n",
    "        GradientBoostingClassifier(random_state=42),\n",
    "        {\n",
    "            # \"criterion\": Categorical([\"friedman_mse\", \"squared_error\"]),\n",
    "            \"n_estimators\": Integer(50, 300),\n",
    "            \"learning_rate\": Real(1e-4, 0.01, prior=\"log-uniform\"),\n",
    "            \"max_depth\": Integer(3, 8),\n",
    "            # \"min_samples_split\": Integer(10, 50),\n",
    "            # \"min_samples_leaf\": Integer(5, 30),\n",
    "            # \"n_iter_no_change\": Integer(5, 20),\n",
    "        },\n",
    "    ],\n",
    "    \"XGBoost\": [\n",
    "        XGBClassifier(n_jobs=-1, random_state=42),\n",
    "        {\n",
    "            \"n_estimators\": Integer(50, 200),\n",
    "            \"learning_rate\": Real(1e-4, 0.01, prior=\"log-uniform\"),\n",
    "            \"max_depth\": Integer(3, 8),\n",
    "            \"colsample_bytree\": Real(0.6, 0.9),\n",
    "            # \"gamma\": Real(1, 5, prior=\"log-uniform\"),\n",
    "            # \"reg_alpha\": Real(1, 5, prior=\"log-uniform\"),\n",
    "            # \"reg_lambda\": Real(1, 10, prior=\"log-uniform\"),\n",
    "            # \"min_child_weight\": Integer(3, 10),\n",
    "            \"scale_pos_weight\": Real(5, 10),\n",
    "        },\n",
    "    ],\n",
    "    \"Naive Bayes\": (\n",
    "        GaussianNB(),\n",
    "        {\"var_smoothing\": Real(1e-6, 1e-2, prior=\"log-uniform\")},\n",
    "    ),\n",
    "    \"BernoulliNB\": (BernoulliNB(), {\"alpha\": Real(0.001, 1, prior=\"log-uniform\")}),\n",
    "    \"Light GBM\": [\n",
    "        LGBMClassifier(\n",
    "            n_jobs=-1, random_state=42, class_weight=\"balanced\", verbosity=-1\n",
    "        ),\n",
    "        {\n",
    "            # \"reg_alpha\": Real(1, 10, prior=\"log-uniform\"),\n",
    "            # \"reg_lambda\": Real(1, 10, prior=\"log-uniform\"),\n",
    "            \"num_leaves\": Integer(10, 50),\n",
    "            \"max_depth\": Integer(3, 8),\n",
    "            \"learning_rate\": Real(1e-4, 1e-2, prior=\"log-uniform\"),\n",
    "            \"n_estimators\": Integer(100, 500),\n",
    "            \"min_child_samples\": Integer(20, 60),\n",
    "            # \"subsample\": Real(0.6, 1.0),\n",
    "            \"colsample_bytree\": Real(0.5, 0.8),\n",
    "        },\n",
    "    ],\n",
    "}"
   ]
  },
  {
   "cell_type": "code",
   "execution_count": 14,
   "metadata": {},
   "outputs": [],
   "source": [
    "best_models = {}\n",
    "results = []"
   ]
  },
  {
   "cell_type": "code",
   "execution_count": 15,
   "metadata": {},
   "outputs": [
    {
     "name": "stdout",
     "output_type": "stream",
     "text": [
      "Model: Logistic Regression\n"
     ]
    },
    {
     "name": "stderr",
     "output_type": "stream",
     "text": [
      "c:\\Users\\shrey\\AppData\\Local\\Programs\\Python\\Python312\\Lib\\site-packages\\sklearn\\linear_model\\_logistic.py:1208: UserWarning: Setting penalty=None will ignore the C and l1_ratio parameters\n",
      "  warnings.warn(\n"
     ]
    },
    {
     "name": "stdout",
     "output_type": "stream",
     "text": [
      "{'Model': 'Logistic Regression', 'Train Accuracy': 92.04, 'Test Accuracy': 79.44, 'Train F1': 75.36, 'Test F1': 45.0, 'Train ROC': 97.68, 'Test ROC': 65.29, 'Best Parameters': OrderedDict({'C': 0.16994636371262764, 'fit_intercept': False, 'penalty': None, 'solver': 'newton-cg'})}\n",
      "Model: Ridge Regression\n",
      "{'Model': 'Ridge Regression', 'Train Accuracy': 69.09, 'Test Accuracy': 74.77, 'Train F1': 34.0, 'Test F1': 40.0, 'Train ROC': 71.86, 'Test ROC': 68.24, 'Best Parameters': OrderedDict({'alpha': 45.233439032636454, 'fit_intercept': True})}\n",
      "Model: SVM\n",
      "{'Model': 'SVM', 'Train Accuracy': 87.35, 'Test Accuracy': 81.31, 'Train F1': 65.82, 'Test F1': 50.0, 'Train ROC': 95.11, 'Test ROC': 75.82, 'Best Parameters': OrderedDict({'C': 0.4369339947510315, 'coef0': 2.8539836866041823, 'degree': 8, 'gamma': 0.00885928719200224})}\n",
      "Model: Decision Tree\n",
      "{'Model': 'Decision Tree', 'Train Accuracy': 74.0, 'Test Accuracy': 77.57, 'Train F1': 44.78, 'Test F1': 45.45, 'Train ROC': 84.06, 'Test ROC': 70.26, 'Best Parameters': OrderedDict({'criterion': 'log_loss', 'max_depth': 5, 'max_leaf_nodes': 7})}\n",
      "Model: KNN\n",
      "{'Model': 'KNN', 'Train Accuracy': 100.0, 'Test Accuracy': 80.37, 'Train F1': 100.0, 'Test F1': 27.59, 'Train ROC': 100.0, 'Test ROC': 64.05, 'Best Parameters': OrderedDict({'algorithm': 'brute', 'metric': 'euclidean', 'n_neighbors': 3, 'p': 2, 'weights': 'distance'})}\n",
      "Model: AdaBoost\n",
      "{'Model': 'AdaBoost', 'Train Accuracy': 93.91, 'Test Accuracy': 85.98, 'Train F1': 68.29, 'Test F1': 28.57, 'Train ROC': 98.38, 'Test ROC': 77.78, 'Best Parameters': OrderedDict({'learning_rate': 1.0, 'n_estimators': 210})}\n",
      "Model: Random Forest\n",
      "{'Model': 'Random Forest', 'Train Accuracy': 84.31, 'Test Accuracy': 84.11, 'Train F1': 52.48, 'Test F1': 45.16, 'Train ROC': 89.96, 'Test ROC': 75.62, 'Best Parameters': OrderedDict({'bootstrap': True, 'criterion': 'entropy', 'max_depth': 20, 'max_features': 'log2', 'min_samples_leaf': 1, 'min_samples_split': 100, 'n_estimators': 500})}\n",
      "Model: Gradient Boosting\n",
      "{'Model': 'Gradient Boosting', 'Train Accuracy': 100.0, 'Test Accuracy': 87.85, 'Train F1': 100.0, 'Test F1': 48.0, 'Train ROC': 100.0, 'Test ROC': 70.72, 'Best Parameters': OrderedDict({'learning_rate': 0.01, 'max_depth': 7, 'n_estimators': 276})}\n",
      "Model: XGBoost\n",
      "{'Model': 'XGBoost', 'Train Accuracy': 89.46, 'Test Accuracy': 87.85, 'Train F1': 64.0, 'Test F1': 55.17, 'Train ROC': 94.09, 'Test ROC': 73.01, 'Best Parameters': OrderedDict({'colsample_bytree': 0.6, 'learning_rate': 0.005433596307816086, 'max_depth': 3, 'n_estimators': 200, 'scale_pos_weight': 5.0})}\n",
      "Model: Naive Bayes\n"
     ]
    },
    {
     "name": "stderr",
     "output_type": "stream",
     "text": [
      "c:\\Users\\shrey\\AppData\\Local\\Programs\\Python\\Python312\\Lib\\site-packages\\skopt\\optimizer\\optimizer.py:517: UserWarning: The objective has been evaluated at point [1.002219530691704e-06] before, using random point [2.0099688090598323e-05]\n",
      "  warnings.warn(\n",
      "c:\\Users\\shrey\\AppData\\Local\\Programs\\Python\\Python312\\Lib\\site-packages\\skopt\\optimizer\\optimizer.py:517: UserWarning: The objective has been evaluated at point [1.0004457650991489e-06] before, using random point [5.66945860133747e-06]\n",
      "  warnings.warn(\n",
      "c:\\Users\\shrey\\AppData\\Local\\Programs\\Python\\Python312\\Lib\\site-packages\\skopt\\optimizer\\optimizer.py:517: UserWarning: The objective has been evaluated at point [1.000342313282149e-06] before, using random point [0.00350068974143221]\n",
      "  warnings.warn(\n",
      "c:\\Users\\shrey\\AppData\\Local\\Programs\\Python\\Python312\\Lib\\site-packages\\skopt\\optimizer\\optimizer.py:517: UserWarning: The objective has been evaluated at point [1.0011782755796267e-06] before, using random point [0.00014147963402677167]\n",
      "  warnings.warn(\n",
      "c:\\Users\\shrey\\AppData\\Local\\Programs\\Python\\Python312\\Lib\\site-packages\\skopt\\optimizer\\optimizer.py:517: UserWarning: The objective has been evaluated at point [1.0008544888663117e-06] before, using random point [0.006894873272633256]\n",
      "  warnings.warn(\n",
      "c:\\Users\\shrey\\AppData\\Local\\Programs\\Python\\Python312\\Lib\\site-packages\\skopt\\optimizer\\optimizer.py:517: UserWarning: The objective has been evaluated at point [1.0014682919150682e-06] before, using random point [6.026228293326813e-05]\n",
      "  warnings.warn(\n",
      "c:\\Users\\shrey\\AppData\\Local\\Programs\\Python\\Python312\\Lib\\site-packages\\skopt\\optimizer\\optimizer.py:517: UserWarning: The objective has been evaluated at point [1.000253416605484e-06] before, using random point [5.048760407237833e-05]\n",
      "  warnings.warn(\n",
      "c:\\Users\\shrey\\AppData\\Local\\Programs\\Python\\Python312\\Lib\\site-packages\\skopt\\optimizer\\optimizer.py:517: UserWarning: The objective has been evaluated at point [1.0022525656509627e-06] before, using random point [0.0027608371377586503]\n",
      "  warnings.warn(\n"
     ]
    },
    {
     "name": "stdout",
     "output_type": "stream",
     "text": [
      "{'Model': 'Naive Bayes', 'Train Accuracy': 33.26, 'Test Accuracy': 33.64, 'Train F1': 26.36, 'Test F1': 29.7, 'Train ROC': 59.73, 'Test ROC': 54.08, 'Best Parameters': OrderedDict({'var_smoothing': 1.0340016434251914e-06})}\n",
      "Model: BernoulliNB\n",
      "{'Model': 'BernoulliNB', 'Train Accuracy': 78.22, 'Test Accuracy': 82.24, 'Train F1': 32.12, 'Test F1': 42.42, 'Train ROC': 70.13, 'Test ROC': 65.1, 'Best Parameters': OrderedDict({'alpha': 0.187606709700378})}\n",
      "Model: Light GBM\n",
      "{'Model': 'Light GBM', 'Train Accuracy': 87.35, 'Test Accuracy': 84.11, 'Train F1': 66.25, 'Test F1': 56.41, 'Train ROC': 96.73, 'Test ROC': 85.95, 'Best Parameters': OrderedDict({'colsample_bytree': 0.5, 'learning_rate': 0.01, 'max_depth': 3, 'min_child_samples': 60, 'n_estimators': 500, 'num_leaves': 50})}\n"
     ]
    }
   ],
   "source": [
    "for model_name, (model, param_grid) in models.items():\n",
    "    print(\"Model:\", model_name)\n",
    "    (\n",
    "        best_model,\n",
    "        best_params,\n",
    "        train_accuracy,\n",
    "        test_accuracy,\n",
    "        train_f1,\n",
    "        test_f1,\n",
    "        train_roc,\n",
    "        test_roc,\n",
    "    ) = train_evaluate_model(X_train, X_test, y_train, y_test, model, param_grid)\n",
    "    best_models[model_name] = best_model\n",
    "    item = {\n",
    "        \"Model\": model_name,\n",
    "        \"Train Accuracy\": np.round(train_accuracy * 100, 2),\n",
    "        \"Test Accuracy\": np.round(test_accuracy * 100, 2),\n",
    "        \"Train F1\": np.round(train_f1 * 100, 2),\n",
    "        \"Test F1\": np.round(test_f1 * 100, 2),\n",
    "        \"Train ROC\": np.round(train_roc * 100, 2),\n",
    "        \"Test ROC\": np.round(test_roc * 100, 2),\n",
    "        \"Best Parameters\": best_params,\n",
    "    }\n",
    "    print(item)\n",
    "    results.append({\n",
    "        \"Model\": model_name,\n",
    "        \"Train Accuracy\": np.round(train_accuracy * 100, 2),\n",
    "        \"Test Accuracy\": np.round(test_accuracy * 100, 2),\n",
    "        \"Train F1\": np.round(train_f1 * 100, 2),\n",
    "        \"Test F1\": np.round(test_f1 * 100, 2),\n",
    "        \"Train ROC\": train_roc,\n",
    "        \"Test ROC\": test_roc,\n",
    "        # \"Best Parameters\": best_params,\n",
    "    })"
   ]
  },
  {
   "cell_type": "code",
   "execution_count": 16,
   "metadata": {},
   "outputs": [
    {
     "data": {
      "text/html": [
       "<div>\n",
       "<style scoped>\n",
       "    .dataframe tbody tr th:only-of-type {\n",
       "        vertical-align: middle;\n",
       "    }\n",
       "\n",
       "    .dataframe tbody tr th {\n",
       "        vertical-align: top;\n",
       "    }\n",
       "\n",
       "    .dataframe thead th {\n",
       "        text-align: right;\n",
       "    }\n",
       "</style>\n",
       "<table border=\"1\" class=\"dataframe\">\n",
       "  <thead>\n",
       "    <tr style=\"text-align: right;\">\n",
       "      <th></th>\n",
       "      <th>Model</th>\n",
       "      <th>Train Accuracy</th>\n",
       "      <th>Test Accuracy</th>\n",
       "      <th>Train F1</th>\n",
       "      <th>Test F1</th>\n",
       "      <th>Train ROC</th>\n",
       "      <th>Test ROC</th>\n",
       "    </tr>\n",
       "  </thead>\n",
       "  <tbody>\n",
       "    <tr>\n",
       "      <th>0</th>\n",
       "      <td>Logistic Regression</td>\n",
       "      <td>92.04</td>\n",
       "      <td>79.44</td>\n",
       "      <td>75.36</td>\n",
       "      <td>45.00</td>\n",
       "      <td>0.976793</td>\n",
       "      <td>0.652941</td>\n",
       "    </tr>\n",
       "    <tr>\n",
       "      <th>1</th>\n",
       "      <td>Ridge Regression</td>\n",
       "      <td>69.09</td>\n",
       "      <td>74.77</td>\n",
       "      <td>34.00</td>\n",
       "      <td>40.00</td>\n",
       "      <td>0.718595</td>\n",
       "      <td>0.682353</td>\n",
       "    </tr>\n",
       "    <tr>\n",
       "      <th>2</th>\n",
       "      <td>SVM</td>\n",
       "      <td>87.35</td>\n",
       "      <td>81.31</td>\n",
       "      <td>65.82</td>\n",
       "      <td>50.00</td>\n",
       "      <td>0.951064</td>\n",
       "      <td>0.758170</td>\n",
       "    </tr>\n",
       "    <tr>\n",
       "      <th>3</th>\n",
       "      <td>Decision Tree</td>\n",
       "      <td>74.00</td>\n",
       "      <td>77.57</td>\n",
       "      <td>44.78</td>\n",
       "      <td>45.45</td>\n",
       "      <td>0.840556</td>\n",
       "      <td>0.702614</td>\n",
       "    </tr>\n",
       "    <tr>\n",
       "      <th>4</th>\n",
       "      <td>KNN</td>\n",
       "      <td>100.00</td>\n",
       "      <td>80.37</td>\n",
       "      <td>100.00</td>\n",
       "      <td>27.59</td>\n",
       "      <td>1.000000</td>\n",
       "      <td>0.640523</td>\n",
       "    </tr>\n",
       "    <tr>\n",
       "      <th>5</th>\n",
       "      <td>AdaBoost</td>\n",
       "      <td>93.91</td>\n",
       "      <td>85.98</td>\n",
       "      <td>68.29</td>\n",
       "      <td>28.57</td>\n",
       "      <td>0.983781</td>\n",
       "      <td>0.777778</td>\n",
       "    </tr>\n",
       "    <tr>\n",
       "      <th>6</th>\n",
       "      <td>Random Forest</td>\n",
       "      <td>84.31</td>\n",
       "      <td>84.11</td>\n",
       "      <td>52.48</td>\n",
       "      <td>45.16</td>\n",
       "      <td>0.899556</td>\n",
       "      <td>0.756209</td>\n",
       "    </tr>\n",
       "    <tr>\n",
       "      <th>7</th>\n",
       "      <td>Gradient Boosting</td>\n",
       "      <td>100.00</td>\n",
       "      <td>87.85</td>\n",
       "      <td>100.00</td>\n",
       "      <td>48.00</td>\n",
       "      <td>1.000000</td>\n",
       "      <td>0.707190</td>\n",
       "    </tr>\n",
       "    <tr>\n",
       "      <th>8</th>\n",
       "      <td>XGBoost</td>\n",
       "      <td>89.46</td>\n",
       "      <td>87.85</td>\n",
       "      <td>64.00</td>\n",
       "      <td>55.17</td>\n",
       "      <td>0.940899</td>\n",
       "      <td>0.730065</td>\n",
       "    </tr>\n",
       "    <tr>\n",
       "      <th>9</th>\n",
       "      <td>Naive Bayes</td>\n",
       "      <td>33.26</td>\n",
       "      <td>33.64</td>\n",
       "      <td>26.36</td>\n",
       "      <td>29.70</td>\n",
       "      <td>0.597266</td>\n",
       "      <td>0.540850</td>\n",
       "    </tr>\n",
       "    <tr>\n",
       "      <th>10</th>\n",
       "      <td>BernoulliNB</td>\n",
       "      <td>78.22</td>\n",
       "      <td>82.24</td>\n",
       "      <td>32.12</td>\n",
       "      <td>42.42</td>\n",
       "      <td>0.701266</td>\n",
       "      <td>0.650980</td>\n",
       "    </tr>\n",
       "    <tr>\n",
       "      <th>11</th>\n",
       "      <td>Light GBM</td>\n",
       "      <td>87.35</td>\n",
       "      <td>84.11</td>\n",
       "      <td>66.25</td>\n",
       "      <td>56.41</td>\n",
       "      <td>0.967259</td>\n",
       "      <td>0.859477</td>\n",
       "    </tr>\n",
       "  </tbody>\n",
       "</table>\n",
       "</div>"
      ],
      "text/plain": [
       "                  Model  Train Accuracy  Test Accuracy  Train F1  Test F1  \\\n",
       "0   Logistic Regression           92.04          79.44     75.36    45.00   \n",
       "1      Ridge Regression           69.09          74.77     34.00    40.00   \n",
       "2                   SVM           87.35          81.31     65.82    50.00   \n",
       "3         Decision Tree           74.00          77.57     44.78    45.45   \n",
       "4                   KNN          100.00          80.37    100.00    27.59   \n",
       "5              AdaBoost           93.91          85.98     68.29    28.57   \n",
       "6         Random Forest           84.31          84.11     52.48    45.16   \n",
       "7     Gradient Boosting          100.00          87.85    100.00    48.00   \n",
       "8               XGBoost           89.46          87.85     64.00    55.17   \n",
       "9           Naive Bayes           33.26          33.64     26.36    29.70   \n",
       "10          BernoulliNB           78.22          82.24     32.12    42.42   \n",
       "11            Light GBM           87.35          84.11     66.25    56.41   \n",
       "\n",
       "    Train ROC  Test ROC  \n",
       "0    0.976793  0.652941  \n",
       "1    0.718595  0.682353  \n",
       "2    0.951064  0.758170  \n",
       "3    0.840556  0.702614  \n",
       "4    1.000000  0.640523  \n",
       "5    0.983781  0.777778  \n",
       "6    0.899556  0.756209  \n",
       "7    1.000000  0.707190  \n",
       "8    0.940899  0.730065  \n",
       "9    0.597266  0.540850  \n",
       "10   0.701266  0.650980  \n",
       "11   0.967259  0.859477  "
      ]
     },
     "execution_count": 16,
     "metadata": {},
     "output_type": "execute_result"
    }
   ],
   "source": [
    "results = pd.DataFrame(results)\n",
    "results"
   ]
  },
  {
   "cell_type": "markdown",
   "metadata": {},
   "source": [
    "### Ensemble\n",
    "\n",
    "#### Stacking Classifier"
   ]
  },
  {
   "cell_type": "code",
   "execution_count": 21,
   "metadata": {},
   "outputs": [
    {
     "name": "stderr",
     "output_type": "stream",
     "text": [
      "c:\\Users\\shrey\\AppData\\Local\\Programs\\Python\\Python312\\Lib\\site-packages\\sklearn\\linear_model\\_logistic.py:1208: UserWarning: Setting penalty=None will ignore the C and l1_ratio parameters\n",
      "  warnings.warn(\n"
     ]
    },
    {
     "data": {
      "text/html": [
       "<div>\n",
       "<style scoped>\n",
       "    .dataframe tbody tr th:only-of-type {\n",
       "        vertical-align: middle;\n",
       "    }\n",
       "\n",
       "    .dataframe tbody tr th {\n",
       "        vertical-align: top;\n",
       "    }\n",
       "\n",
       "    .dataframe thead th {\n",
       "        text-align: right;\n",
       "    }\n",
       "</style>\n",
       "<table border=\"1\" class=\"dataframe\">\n",
       "  <thead>\n",
       "    <tr style=\"text-align: right;\">\n",
       "      <th></th>\n",
       "      <th>0</th>\n",
       "    </tr>\n",
       "  </thead>\n",
       "  <tbody>\n",
       "    <tr>\n",
       "      <th>Train Accuracy</th>\n",
       "      <td>80.56</td>\n",
       "    </tr>\n",
       "    <tr>\n",
       "      <th>Train F1 Score</th>\n",
       "      <td>56.08</td>\n",
       "    </tr>\n",
       "    <tr>\n",
       "      <th>Train ROC AUC Score</th>\n",
       "      <td>96.60</td>\n",
       "    </tr>\n",
       "    <tr>\n",
       "      <th>Test Accuracy</th>\n",
       "      <td>82.24</td>\n",
       "    </tr>\n",
       "    <tr>\n",
       "      <th>Test F1 Score</th>\n",
       "      <td>59.57</td>\n",
       "    </tr>\n",
       "    <tr>\n",
       "      <th>Test ROC AUC Score</th>\n",
       "      <td>87.32</td>\n",
       "    </tr>\n",
       "  </tbody>\n",
       "</table>\n",
       "</div>"
      ],
      "text/plain": [
       "                         0\n",
       "Train Accuracy       80.56\n",
       "Train F1 Score       56.08\n",
       "Train ROC AUC Score  96.60\n",
       "Test Accuracy        82.24\n",
       "Test F1 Score        59.57\n",
       "Test ROC AUC Score   87.32"
      ]
     },
     "execution_count": 21,
     "metadata": {},
     "output_type": "execute_result"
    }
   ],
   "source": [
    "base_models = [\n",
    "    \"XGBoost\",\n",
    "    \"Light GBM\",\n",
    "    \"SVM\",\n",
    "    # \"Decision Tree\",\n",
    "    \"AdaBoost\",\n",
    "    \"Naive Bayes\",\n",
    "    # 'Random Forest'\n",
    "]\n",
    "\n",
    "\n",
    "meta_model = best_models[\"Logistic Regression\"]\n",
    "evaluation_results2 = []\n",
    "base = []\n",
    "for model in base_models:\n",
    "    base.append((model, best_models[model]))\n",
    "\n",
    "stack = StackingClassifier(\n",
    "    estimators=base,\n",
    "    final_estimator=meta_model,\n",
    "    cv=5,\n",
    "    n_jobs=-1,\n",
    "    stack_method=\"predict_proba\",\n",
    ")\n",
    "\n",
    "stack.fit(X_train, y_train)\n",
    "\n",
    "y_pred_test = stack.predict(X_test)\n",
    "\n",
    "\n",
    "train_acc = accuracy_score(y_train, stack.predict(X_train)) * 100\n",
    "train_f1 = f1_score(y_train, stack.predict(X_train)) * 100\n",
    "train_roc = roc_auc_score(y_train, stack.predict_proba(X_train)[: , 1]) * 100\n",
    "\n",
    "test_acc = accuracy_score(y_test, y_pred_test) * 100\n",
    "test_f1 = f1_score(y_test, y_pred_test) * 100\n",
    "test_roc = roc_auc_score(y_test, stack.predict_proba(X_test)[: , 1]) * 100\n",
    "\n",
    "evaluation_results2.append(\n",
    "    {\n",
    "        \"Train Accuracy\": np.round(train_acc, 2),\n",
    "        \"Train F1 Score\": np.round(train_f1, 2),\n",
    "        \"Train ROC AUC Score\": np.round(train_roc, 2),\n",
    "        \"Test Accuracy\": np.round(test_acc, 2),\n",
    "        \"Test F1 Score\": np.round(test_f1, 2),\n",
    "        \"Test ROC AUC Score\": np.round(test_roc, 2),  \n",
    "    }\n",
    ")\n",
    "\n",
    "results2 = pd.DataFrame(data=evaluation_results2).T\n",
    "results2"
   ]
  },
  {
   "cell_type": "code",
   "execution_count": 17,
   "metadata": {},
   "outputs": [],
   "source": [
    "import seaborn as sns"
   ]
  },
  {
   "cell_type": "code",
   "execution_count": 51,
   "metadata": {},
   "outputs": [],
   "source": [
    "plt.rcParams.update(plt.rcParamsDefault)"
   ]
  },
  {
   "cell_type": "code",
   "execution_count": 49,
   "metadata": {},
   "outputs": [],
   "source": [
    "plt.rcParams.update({\n",
    "    'text.usetex': True,\n",
    "    'font.family': 'serif',\n",
    "})\n"
   ]
  },
  {
   "cell_type": "code",
   "execution_count": 22,
   "metadata": {},
   "outputs": [],
   "source": [
    "cm = confusion_matrix(y_test, y_pred_test)"
   ]
  },
  {
   "cell_type": "code",
   "execution_count": 23,
   "metadata": {},
   "outputs": [
    {
     "data": {
      "text/plain": [
       "array([[74, 16],\n",
       "       [ 3, 14]], dtype=int64)"
      ]
     },
     "execution_count": 23,
     "metadata": {},
     "output_type": "execute_result"
    }
   ],
   "source": [
    "cm"
   ]
  },
  {
   "cell_type": "code",
   "execution_count": 24,
   "metadata": {},
   "outputs": [
    {
     "data": {
      "image/png": "[encoded data removed]",
      "text/plain": [
       "<Figure size 640x480 with 2 Axes>"
      ]
     },
     "metadata": {},
     "output_type": "display_data"
    }
   ],
   "source": [
    "# Compute confusion matrix\n",
    "\n",
    "disp = ConfusionMatrixDisplay(confusion_matrix=cm)\n",
    "\n",
    "disp.plot(cmap='Blues')\n",
    "plt.title('Confusion Matrix - Stacking Classifier')\n",
    "plt.show()\n"
   ]
  },
  {
   "cell_type": "markdown",
   "metadata": {},
   "source": [
    "#### Voting Classifier"
   ]
  },
  {
   "cell_type": "code",
   "execution_count": 25,
   "metadata": {},
   "outputs": [
    {
     "data": {
      "text/html": [
       "<div>\n",
       "<style scoped>\n",
       "    .dataframe tbody tr th:only-of-type {\n",
       "        vertical-align: middle;\n",
       "    }\n",
       "\n",
       "    .dataframe tbody tr th {\n",
       "        vertical-align: top;\n",
       "    }\n",
       "\n",
       "    .dataframe thead th {\n",
       "        text-align: right;\n",
       "    }\n",
       "</style>\n",
       "<table border=\"1\" class=\"dataframe\">\n",
       "  <thead>\n",
       "    <tr style=\"text-align: right;\">\n",
       "      <th></th>\n",
       "      <th>0</th>\n",
       "    </tr>\n",
       "  </thead>\n",
       "  <tbody>\n",
       "    <tr>\n",
       "      <th>Train Accuracy</th>\n",
       "      <td>90.87</td>\n",
       "    </tr>\n",
       "    <tr>\n",
       "      <th>Train F1 Score</th>\n",
       "      <td>71.53</td>\n",
       "    </tr>\n",
       "    <tr>\n",
       "      <th>Train ROC AUC Score</th>\n",
       "      <td>96.92</td>\n",
       "    </tr>\n",
       "    <tr>\n",
       "      <th>Test Accuracy</th>\n",
       "      <td>90.65</td>\n",
       "    </tr>\n",
       "    <tr>\n",
       "      <th>Test F1 Score</th>\n",
       "      <td>64.29</td>\n",
       "    </tr>\n",
       "    <tr>\n",
       "      <th>Test ROC AUC Score</th>\n",
       "      <td>85.03</td>\n",
       "    </tr>\n",
       "  </tbody>\n",
       "</table>\n",
       "</div>"
      ],
      "text/plain": [
       "                         0\n",
       "Train Accuracy       90.87\n",
       "Train F1 Score       71.53\n",
       "Train ROC AUC Score  96.92\n",
       "Test Accuracy        90.65\n",
       "Test F1 Score        64.29\n",
       "Test ROC AUC Score   85.03"
      ]
     },
     "execution_count": 25,
     "metadata": {},
     "output_type": "execute_result"
    }
   ],
   "source": [
    "from sklearn.ensemble import VotingClassifier\n",
    "\n",
    "model_names = [\n",
    "    \"XGBoost\",\n",
    "    \"Light GBM\",\n",
    "    # \"Decision Tree\",\n",
    "    \"SVM\",\n",
    "    \"AdaBoost\",\n",
    "    # \"Naive Bayes\",\n",
    "    # \"BernoulliNB\",\n",
    "    # \"Logistic Regression\",\n",
    "    # \"Gradient Boosting\"\n",
    "    \n",
    "]\n",
    "\n",
    "evaluation_results2 = []\n",
    "base = []\n",
    "for j in range(len(model_names)):\n",
    "    base.append((model_names[j], best_models[model_names[j]]))\n",
    "\n",
    "stack = VotingClassifier(\n",
    "    estimators=base,\n",
    "    n_jobs=-1,\n",
    "    voting=\"soft\",\n",
    "    weights=[0.8,1.4,0.3, 0.4],\n",
    ")\n",
    "stack.fit(X_train, y_train)\n",
    "\n",
    "y_pred_test = stack.predict(X_test)\n",
    "\n",
    "train_acc = accuracy_score(y_train, stack.predict(X_train)) * 100 \n",
    "train_f1 = f1_score(y_train, stack.predict(X_train)) * 100\n",
    "train_roc = roc_auc_score(y_train, stack.predict_proba(X_train)[: , 1]) * 100\n",
    "test_acc = accuracy_score(y_test, y_pred_test) * 100\n",
    "test_f1 = f1_score(y_test, y_pred_test) * 100\n",
    "test_roc = roc_auc_score(y_test, stack.predict_proba(X_test)[: , 1]) * 100\n",
    "\n",
    "evaluation_results2.append(\n",
    "    {\n",
    "        \"Train Accuracy\": np.round(train_acc, 2),\n",
    "        \"Train F1 Score\": np.round(train_f1, 2),\n",
    "        \"Train ROC AUC Score\": np.round(train_roc, 2),\n",
    "        \"Test Accuracy\": np.round(test_acc, 2),\n",
    "        \"Test F1 Score\": np.round(test_f1, 2),\n",
    "        \"Test ROC AUC Score\": np.round(test_roc, 2),  \n",
    "    }\n",
    ")\n",
    "\n",
    "results2 = pd.DataFrame(data=evaluation_results2).T\n",
    "results2\n"
   ]
  },
  {
   "cell_type": "code",
   "execution_count": 26,
   "metadata": {},
   "outputs": [
    {
     "data": {
      "text/plain": [
       "Text(0.5, 1.0, 'Confusion Matrix - Voting Classifier')"
      ]
     },
     "execution_count": 26,
     "metadata": {},
     "output_type": "execute_result"
    },
    {
     "data": {
      "image/png": "[encoded data removed]",
      "text/plain": [
       "<Figure size 640x480 with 2 Axes>"
      ]
     },
     "metadata": {},
     "output_type": "display_data"
    }
   ],
   "source": [
    "# Compute confusion matrix\n",
    "cm = confusion_matrix(y_test, y_pred_test)\n",
    "disp = ConfusionMatrixDisplay(confusion_matrix=cm)\n",
    "\n",
    "disp.plot(cmap='Blues')\n",
    "plt.title('Confusion Matrix - Voting Classifier')\n"
   ]
  }
 ],
 "metadata": {
  "colab": {
   "provenance": []
  },
  "kernelspec": {
   "display_name": "Python 3",
   "language": "python",
   "name": "python3"
  },
  "language_info": {
   "codemirror_mode": {
    "name": "ipython",
    "version": 3
   },
   "file_extension": ".py",
   "mimetype": "text/x-python",
   "name": "python",
   "nbconvert_exporter": "python",
   "pygments_lexer": "ipython3",
   "version": "3.12.5"
  }
 },
 "nbformat": 4,
 "nbformat_minor": 0
}
